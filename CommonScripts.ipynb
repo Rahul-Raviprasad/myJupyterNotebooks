{
 "cells": [
  {
   "cell_type": "markdown",
   "id": "e8eb3d5a-000e-4241-b5c5-99e3681f63bd",
   "metadata": {},
   "source": [
    "# Common Scripts\n",
    "This repository contains a collection of common scripts that can be used for various purposes.\n",
    "\n",
    "## Generating UUID\n",
    "\n",
    "This section contains scripts for generating UUID Universally Unique Identifier (UUID) of 32 characters in Python\n",
    "\n",
    "\n"
   ]
  },
  {
   "cell_type": "code",
   "execution_count": 1,
   "id": "62c4852c-e66a-47f1-9d8d-c7f572840dd5",
   "metadata": {},
   "outputs": [
    {
     "name": "stdout",
     "output_type": "stream",
     "text": [
      "d8d0bdeb9257445e846723290dc2c96f\n"
     ]
    }
   ],
   "source": [
    "import uuid\n",
    "\n",
    "my_uuid = uuid.uuid4()\n",
    "print(str(my_uuid).replace(\"-\", \"\"))"
   ]
  },
  {
   "cell_type": "code",
   "execution_count": null,
   "id": "cccb12aa-82a7-4937-91c5-68a345cc9cf3",
   "metadata": {},
   "outputs": [],
   "source": []
  }
 ],
 "metadata": {
  "kernelspec": {
   "display_name": "Python 3 (ipykernel)",
   "language": "python",
   "name": "python3"
  },
  "language_info": {
   "codemirror_mode": {
    "name": "ipython",
    "version": 3
   },
   "file_extension": ".py",
   "mimetype": "text/x-python",
   "name": "python",
   "nbconvert_exporter": "python",
   "pygments_lexer": "ipython3",
   "version": "3.9.13"
  }
 },
 "nbformat": 4,
 "nbformat_minor": 5
}
