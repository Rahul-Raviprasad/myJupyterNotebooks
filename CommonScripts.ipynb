{
 "cells": [
  {
   "cell_type": "markdown",
   "id": "e8eb3d5a-000e-4241-b5c5-99e3681f63bd",
   "metadata": {},
   "source": [
    "# Common Scripts\n",
    "This repository contains a collection of common scripts that can be used for various purposes.\n",
    "\n",
    "## Generating UUID\n",
    "\n",
    "This section contains scripts for generating UUID Universally Unique Identifier (UUID) of 32 characters in Python\n",
    "\n",
    "\n"
   ]
  },
  {
   "cell_type": "code",
   "execution_count": 1,
   "id": "62c4852c-e66a-47f1-9d8d-c7f572840dd5",
   "metadata": {},
   "outputs": [
    {
     "name": "stdout",
     "output_type": "stream",
     "text": [
      "d8d0bdeb9257445e846723290dc2c96f\n"
     ]
    }
   ],
   "source": [
    "import uuid\n",
    "\n",
    "my_uuid = uuid.uuid4()\n",
    "print(str(my_uuid).replace(\"-\", \"\"))"
   ]
  },
  {
   "cell_type": "markdown",
   "id": "d7c77e9e-4dc5-42cf-8dc6-57fb151bd396",
   "metadata": {},
   "source": [
    "## searching for files with a certain name pattern\n"
   ]
  },
  {
   "cell_type": "code",
   "execution_count": 2,
   "id": "4b9dc981-5928-40b7-980b-5ac9741386cc",
   "metadata": {},
   "outputs": [
    {
     "name": "stdout",
     "output_type": "stream",
     "text": [
      "\n",
      " Files with some_script_name in them *:\n",
      "[]\n"
     ]
    }
   ],
   "source": [
    "import glob\n",
    "\n",
    "# This is my path\n",
    "path = \"/Users/abc.xyz/blah/src/main/blah/blah/\"\n",
    "\n",
    "# Using '*' pattern\n",
    "print('\\n Files with some_script_name in them *:')\n",
    "some_script_name = []\n",
    "for files in glob.glob(path + 'some_script_name*'):\n",
    "    #print(files[99:]) # Full file names, 99 here was due to path, change according to file and directory you are in\n",
    "    #print(files[121:-4])  # Only uuid, -4 to remove .xml from end\n",
    "    some_script_name.append(files[121:-4])\n",
    "    #print(files)\n",
    "\n",
    "print(some_script_name)\n"
   ]
  },
  {
   "cell_type": "markdown",
   "id": "fcad6b54-e6cd-4920-aef2-2c51af037728",
   "metadata": {},
   "source": [
    "## Search and replace a certain string in all files of a certain directory"
   ]
  },
  {
   "cell_type": "code",
   "execution_count": null,
   "id": "b2410460-54f5-4223-b762-6d5bdf9620c7",
   "metadata": {},
   "outputs": [],
   "source": [
    "import os\n",
    "import fileinput\n",
    "\n",
    "directory = '/path/to/directory'\n",
    "search_string = 'old_string'\n",
    "replace_string = 'new_string'\n",
    "\n",
    "for filename in os.listdir(directory):\n",
    "    if filename.endswith('.txt'):\n",
    "        with fileinput.FileInput(os.path.join(directory, filename), inplace=True) as file:\n",
    "            for line in file:\n",
    "                print(line.replace(search_string, replace_string), end='')"
   ]
  }
 ],
 "metadata": {
  "kernelspec": {
   "display_name": "Python 3 (ipykernel)",
   "language": "python",
   "name": "python3"
  },
  "language_info": {
   "codemirror_mode": {
    "name": "ipython",
    "version": 3
   },
   "file_extension": ".py",
   "mimetype": "text/x-python",
   "name": "python",
   "nbconvert_exporter": "python",
   "pygments_lexer": "ipython3",
   "version": "3.9.13"
  }
 },
 "nbformat": 4,
 "nbformat_minor": 5
}
