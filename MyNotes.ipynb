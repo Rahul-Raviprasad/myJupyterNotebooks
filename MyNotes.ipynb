{
 "cells": [
  {
   "cell_type": "markdown",
   "metadata": {},
   "source": [
    "## Some OS Access code\n",
    "https://docs.python.org/3/library/os.html"
   ]
  },
  {
   "cell_type": "code",
   "execution_count": 4,
   "metadata": {},
   "outputs": [
    {
     "name": "stdout",
     "output_type": "stream",
     "text": [
      "32512\n",
      "posix\n"
     ]
    }
   ],
   "source": [
    "import os\n",
    "print(os.system(\"vnstat\"))\n",
    "print(os.name)"
   ]
  },
  {
   "cell_type": "markdown",
   "metadata": {},
   "source": [
    "## Get word count on a pdf file.\n"
   ]
  },
  {
   "cell_type": "code",
   "execution_count": 5,
   "metadata": {},
   "outputs": [
    {
     "ename": "ModuleNotFoundError",
     "evalue": "No module named 'PyPDF2'",
     "output_type": "error",
     "traceback": [
      "\u001b[0;31m---------------------------------------------------------------------------\u001b[0m",
      "\u001b[0;31mModuleNotFoundError\u001b[0m                       Traceback (most recent call last)",
      "\u001b[0;32m<ipython-input-5-0d24cd45cd42>\u001b[0m in \u001b[0;36m<module>\u001b[0;34m\u001b[0m\n\u001b[1;32m      3\u001b[0m \u001b[0;32mimport\u001b[0m \u001b[0mre\u001b[0m\u001b[0;34m\u001b[0m\u001b[0m\n\u001b[1;32m      4\u001b[0m \u001b[0;32mimport\u001b[0m \u001b[0mtime\u001b[0m\u001b[0;34m\u001b[0m\u001b[0m\n\u001b[0;32m----> 5\u001b[0;31m \u001b[0;32mimport\u001b[0m \u001b[0mPyPDF2\u001b[0m\u001b[0;34m\u001b[0m\u001b[0m\n\u001b[0m\u001b[1;32m      6\u001b[0m \u001b[0;34m\u001b[0m\u001b[0m\n\u001b[1;32m      7\u001b[0m \u001b[0;32mdef\u001b[0m \u001b[0mgetPageCount\u001b[0m\u001b[0;34m(\u001b[0m\u001b[0mpdf_file\u001b[0m\u001b[0;34m)\u001b[0m\u001b[0;34m:\u001b[0m\u001b[0;34m\u001b[0m\u001b[0m\n",
      "\u001b[0;31mModuleNotFoundError\u001b[0m: No module named 'PyPDF2'"
     ]
    }
   ],
   "source": [
    "import os\n",
    "import sys\n",
    "import re\n",
    "import time\n",
    "import PyPDF2\n",
    "\n",
    "def getPageCount(pdf_file):\n",
    "\tpdfFileObj = open(pdf_file, 'rb')\n",
    "\tpdfReader = PyPDF2.PdfFileReader(pdfFileObj)\n",
    "\tpages = pdfReader.numPages\n",
    "\treturn pages\n",
    "\n",
    "def extractData(pdf_file, page):\n",
    "\tpdfFileObj = open(pdf_file, 'rb')\n",
    "\tpdfReader = PyPDF2.PdfFileReader(pdfFileObj)\n",
    "\tpageObj = pdfReader.getPage(page)\n",
    "\tdata = pageObj.extractText()\n",
    "\treturn data\n",
    "\n",
    "def getWordCount(data):\n",
    "\tdata=data.split()\n",
    "\treturn len(data)\n",
    "\n",
    "def main():\n",
    "\tif len(sys.argv)!=2:\n",
    "\t\tprint('command usage: python know_count.py FileName')\n",
    "\t\texit(1)\n",
    "\telse:\n",
    "\t\tpdfFile = sys.argv[1]\n",
    "\t\t# check if the specified file exists or not\n",
    "\t\ttry:\n",
    "\t\t\tif os.path.exists(pdfFile):\n",
    "\t\t\t\tprint(\"file found!\")\n",
    "\t\texcept OSError as err:\n",
    "\t\t\tprint(err.reason)\n",
    "\t\t\texit(1)\n",
    "\t\t# get the word count in the pdf file\n",
    "\t\ttotalWords = 0\n",
    "\t\tnumPages = getPageCount(pdfFile)\n",
    "\t\tfor i in range(numPages):\n",
    "\t\t\ttext = extractData(pdfFile, i)\n",
    "\t\t\ttotalWords+=getWordCount(text)\n",
    "\t\ttime.sleep(1)\n",
    "\t\tprint (totalWords)\n",
    "\n",
    "if __name__ == '__main__':\n",
    "\tmain()\n",
    "\n",
    "    "
   ]
  },
  {
   "cell_type": "markdown",
   "metadata": {},
   "source": [
    "## Twitter module, get list of follower and people we follow"
   ]
  },
  {
   "cell_type": "code",
   "execution_count": 6,
   "metadata": {},
   "outputs": [
    {
     "ename": "ModuleNotFoundError",
     "evalue": "No module named 'twitter'",
     "output_type": "error",
     "traceback": [
      "\u001b[0;31m---------------------------------------------------------------------------\u001b[0m",
      "\u001b[0;31mModuleNotFoundError\u001b[0m                       Traceback (most recent call last)",
      "\u001b[0;32m<ipython-input-6-8eff35330daa>\u001b[0m in \u001b[0;36m<module>\u001b[0;34m\u001b[0m\n\u001b[0;32m----> 1\u001b[0;31m \u001b[0;32mimport\u001b[0m \u001b[0mtwitter\u001b[0m\u001b[0;34m\u001b[0m\u001b[0m\n\u001b[0m\u001b[1;32m      2\u001b[0m \u001b[0;34m\u001b[0m\u001b[0m\n\u001b[1;32m      3\u001b[0m \u001b[0;34m\u001b[0m\u001b[0m\n\u001b[1;32m      4\u001b[0m \u001b[0mTWITTER_CONSUMER_KEY\u001b[0m \u001b[0;34m=\u001b[0m \u001b[0;34m'XXX'\u001b[0m\u001b[0;34m\u001b[0m\u001b[0m\n\u001b[1;32m      5\u001b[0m \u001b[0mTWITTER_CONSUMER_SECRET\u001b[0m \u001b[0;34m=\u001b[0m \u001b[0;34m'XXX'\u001b[0m\u001b[0;34m\u001b[0m\u001b[0m\n",
      "\u001b[0;31mModuleNotFoundError\u001b[0m: No module named 'twitter'"
     ]
    }
   ],
   "source": [
    "import twitter\n",
    "\n",
    "\n",
    "TWITTER_CONSUMER_KEY = 'XXX'\n",
    "TWITTER_CONSUMER_SECRET = 'XXX'\n",
    "TWITTER_ACCESS_TOKEN_KEY = 'XXX'\n",
    "TWITTER_ACCESS_TOKEN_SECRET = 'XXX'\n",
    "\n",
    "twitter_api = twitter.Api(\n",
    "    consumer_key=TWITTER_CONSUMER_KEY,\n",
    "    consumer_secret=TWITTER_CONSUMER_SECRET,\n",
    "    access_token_key=TWITTER_ACCESS_TOKEN_KEY,\n",
    "    access_token_secret=TWITTER_ACCESS_TOKEN_SECRET\n",
    ")\n",
    "\n",
    "if __name__ == '__main__':\n",
    "    follower_ids = twitter_api.GetFollowerIDs()\n",
    "    following_ids = twitter_api.GetFriendIDs()\n",
    "    \n",
    "print(follower_ids)\n",
    "print(following_ids)"
   ]
  },
  {
   "cell_type": "code",
   "execution_count": null,
   "metadata": {},
   "outputs": [],
   "source": []
  }
 ],
 "metadata": {
  "kernelspec": {
   "display_name": "Python 3",
   "language": "python",
   "name": "python3"
  },
  "language_info": {
   "codemirror_mode": {
    "name": "ipython",
    "version": 3
   },
   "file_extension": ".py",
   "mimetype": "text/x-python",
   "name": "python",
   "nbconvert_exporter": "python",
   "pygments_lexer": "ipython3",
   "version": "3.6.0"
  }
 },
 "nbformat": 4,
 "nbformat_minor": 2
}
